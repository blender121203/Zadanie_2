{
 "cells": [
  {
   "cell_type": "markdown",
   "id": "b4ecf332",
   "metadata": {},
   "source": [
    "# Статистика курса валют"
   ]
  },
  {
   "cell_type": "markdown",
   "id": "67189353",
   "metadata": {},
   "source": [
    "### Парсинг данных"
   ]
  },
  {
   "cell_type": "code",
   "execution_count": 5,
   "id": "4584434a",
   "metadata": {},
   "outputs": [],
   "source": [
    "import pandas as pd\n",
    "import numpy as np\n",
    "import matplotlib.pyplot as plt\n",
    "import seaborn as sns\n",
    "import re\n",
    "from sklearn.preprocessing import LabelEncoder\n",
    "from sklearn.preprocessing import StandardScaler\n",
    "import warnings\n",
    "warnings.filterwarnings ('ignore')\n",
    "from sklearn.model_selection import train_test_split\n",
    "from sklearn.linear_model import Lasso\n",
    "from sklearn.tree import DecisionTreeRegressor\n",
    "from sklearn.linear_model import ElasticNetCV\n",
    "from sklearn.metrics import max_error"
   ]
  },
  {
   "cell_type": "code",
   "execution_count": 13,
   "id": "d64ac91d",
   "metadata": {},
   "outputs": [],
   "source": [
    "data=pd.read_excel(\"Valute.xlsx\")"
   ]
  },
  {
   "cell_type": "code",
   "execution_count": 14,
   "id": "fe969074",
   "metadata": {},
   "outputs": [
    {
     "data": {
      "text/html": [
       "<div>\n",
       "<style scoped>\n",
       "    .dataframe tbody tr th:only-of-type {\n",
       "        vertical-align: middle;\n",
       "    }\n",
       "\n",
       "    .dataframe tbody tr th {\n",
       "        vertical-align: top;\n",
       "    }\n",
       "\n",
       "    .dataframe thead th {\n",
       "        text-align: right;\n",
       "    }\n",
       "</style>\n",
       "<table border=\"1\" class=\"dataframe\">\n",
       "  <thead>\n",
       "    <tr style=\"text-align: right;\">\n",
       "      <th></th>\n",
       "      <th>nominal</th>\n",
       "      <th>data</th>\n",
       "      <th>curs</th>\n",
       "      <th>cdx</th>\n",
       "    </tr>\n",
       "  </thead>\n",
       "  <tbody>\n",
       "    <tr>\n",
       "      <th>0</th>\n",
       "      <td>1</td>\n",
       "      <td>2022-05-20</td>\n",
       "      <td>64.9358</td>\n",
       "      <td>Евро</td>\n",
       "    </tr>\n",
       "    <tr>\n",
       "      <th>1</th>\n",
       "      <td>1</td>\n",
       "      <td>2022-05-19</td>\n",
       "      <td>66.6135</td>\n",
       "      <td>Евро</td>\n",
       "    </tr>\n",
       "    <tr>\n",
       "      <th>2</th>\n",
       "      <td>1</td>\n",
       "      <td>2022-05-18</td>\n",
       "      <td>66.3644</td>\n",
       "      <td>Евро</td>\n",
       "    </tr>\n",
       "    <tr>\n",
       "      <th>3</th>\n",
       "      <td>1</td>\n",
       "      <td>2022-05-17</td>\n",
       "      <td>65.8166</td>\n",
       "      <td>Евро</td>\n",
       "    </tr>\n",
       "    <tr>\n",
       "      <th>4</th>\n",
       "      <td>1</td>\n",
       "      <td>2022-05-14</td>\n",
       "      <td>65.7939</td>\n",
       "      <td>Евро</td>\n",
       "    </tr>\n",
       "    <tr>\n",
       "      <th>...</th>\n",
       "      <td>...</td>\n",
       "      <td>...</td>\n",
       "      <td>...</td>\n",
       "      <td>...</td>\n",
       "    </tr>\n",
       "    <tr>\n",
       "      <th>2215</th>\n",
       "      <td>1</td>\n",
       "      <td>2013-05-25</td>\n",
       "      <td>40.5140</td>\n",
       "      <td>Евро</td>\n",
       "    </tr>\n",
       "    <tr>\n",
       "      <th>2216</th>\n",
       "      <td>1</td>\n",
       "      <td>2013-05-24</td>\n",
       "      <td>40.4026</td>\n",
       "      <td>Евро</td>\n",
       "    </tr>\n",
       "    <tr>\n",
       "      <th>2217</th>\n",
       "      <td>1</td>\n",
       "      <td>2013-05-23</td>\n",
       "      <td>40.3372</td>\n",
       "      <td>Евро</td>\n",
       "    </tr>\n",
       "    <tr>\n",
       "      <th>2218</th>\n",
       "      <td>1</td>\n",
       "      <td>2013-05-22</td>\n",
       "      <td>40.1903</td>\n",
       "      <td>Евро</td>\n",
       "    </tr>\n",
       "    <tr>\n",
       "      <th>2219</th>\n",
       "      <td>1</td>\n",
       "      <td>2013-05-21</td>\n",
       "      <td>40.2633</td>\n",
       "      <td>Евро</td>\n",
       "    </tr>\n",
       "  </tbody>\n",
       "</table>\n",
       "<p>2220 rows × 4 columns</p>\n",
       "</div>"
      ],
      "text/plain": [
       "      nominal       data     curs   cdx\n",
       "0           1 2022-05-20  64.9358  Евро\n",
       "1           1 2022-05-19  66.6135  Евро\n",
       "2           1 2022-05-18  66.3644  Евро\n",
       "3           1 2022-05-17  65.8166  Евро\n",
       "4           1 2022-05-14  65.7939  Евро\n",
       "...       ...        ...      ...   ...\n",
       "2215        1 2013-05-25  40.5140  Евро\n",
       "2216        1 2013-05-24  40.4026  Евро\n",
       "2217        1 2013-05-23  40.3372  Евро\n",
       "2218        1 2013-05-22  40.1903  Евро\n",
       "2219        1 2013-05-21  40.2633  Евро\n",
       "\n",
       "[2220 rows x 4 columns]"
      ]
     },
     "execution_count": 14,
     "metadata": {},
     "output_type": "execute_result"
    }
   ],
   "source": [
    "data"
   ]
  },
  {
   "cell_type": "code",
   "execution_count": 15,
   "id": "97a7774f",
   "metadata": {},
   "outputs": [
    {
     "data": {
      "text/plain": [
       "(2220, 4)"
      ]
     },
     "execution_count": 15,
     "metadata": {},
     "output_type": "execute_result"
    }
   ],
   "source": [
    "data.shape"
   ]
  },
  {
   "cell_type": "markdown",
   "id": "5a184f81",
   "metadata": {},
   "source": [
    "### Предобработка данных"
   ]
  },
  {
   "cell_type": "code",
   "execution_count": 17,
   "id": "e60e5d41",
   "metadata": {},
   "outputs": [],
   "source": [
    "data['data']=pd.to_datetime(data['data'], errors='ignore')"
   ]
  },
  {
   "cell_type": "code",
   "execution_count": 22,
   "id": "95ed7d6e",
   "metadata": {},
   "outputs": [],
   "source": [
    "data['year'] = data['data'].dt.year\n",
    "data['month'] = data['data'].dt.month\n",
    "data['day'] = data['data'].dt.day"
   ]
  },
  {
   "cell_type": "code",
   "execution_count": 23,
   "id": "bc94f005",
   "metadata": {},
   "outputs": [
    {
     "data": {
      "text/html": [
       "<div>\n",
       "<style scoped>\n",
       "    .dataframe tbody tr th:only-of-type {\n",
       "        vertical-align: middle;\n",
       "    }\n",
       "\n",
       "    .dataframe tbody tr th {\n",
       "        vertical-align: top;\n",
       "    }\n",
       "\n",
       "    .dataframe thead th {\n",
       "        text-align: right;\n",
       "    }\n",
       "</style>\n",
       "<table border=\"1\" class=\"dataframe\">\n",
       "  <thead>\n",
       "    <tr style=\"text-align: right;\">\n",
       "      <th></th>\n",
       "      <th>nominal</th>\n",
       "      <th>data</th>\n",
       "      <th>curs</th>\n",
       "      <th>cdx</th>\n",
       "      <th>year</th>\n",
       "      <th>month</th>\n",
       "      <th>day</th>\n",
       "    </tr>\n",
       "  </thead>\n",
       "  <tbody>\n",
       "    <tr>\n",
       "      <th>0</th>\n",
       "      <td>1</td>\n",
       "      <td>2022-05-20</td>\n",
       "      <td>64.9358</td>\n",
       "      <td>Евро</td>\n",
       "      <td>2022</td>\n",
       "      <td>5</td>\n",
       "      <td>20</td>\n",
       "    </tr>\n",
       "    <tr>\n",
       "      <th>1</th>\n",
       "      <td>1</td>\n",
       "      <td>2022-05-19</td>\n",
       "      <td>66.6135</td>\n",
       "      <td>Евро</td>\n",
       "      <td>2022</td>\n",
       "      <td>5</td>\n",
       "      <td>19</td>\n",
       "    </tr>\n",
       "    <tr>\n",
       "      <th>2</th>\n",
       "      <td>1</td>\n",
       "      <td>2022-05-18</td>\n",
       "      <td>66.3644</td>\n",
       "      <td>Евро</td>\n",
       "      <td>2022</td>\n",
       "      <td>5</td>\n",
       "      <td>18</td>\n",
       "    </tr>\n",
       "    <tr>\n",
       "      <th>3</th>\n",
       "      <td>1</td>\n",
       "      <td>2022-05-17</td>\n",
       "      <td>65.8166</td>\n",
       "      <td>Евро</td>\n",
       "      <td>2022</td>\n",
       "      <td>5</td>\n",
       "      <td>17</td>\n",
       "    </tr>\n",
       "    <tr>\n",
       "      <th>4</th>\n",
       "      <td>1</td>\n",
       "      <td>2022-05-14</td>\n",
       "      <td>65.7939</td>\n",
       "      <td>Евро</td>\n",
       "      <td>2022</td>\n",
       "      <td>5</td>\n",
       "      <td>14</td>\n",
       "    </tr>\n",
       "    <tr>\n",
       "      <th>...</th>\n",
       "      <td>...</td>\n",
       "      <td>...</td>\n",
       "      <td>...</td>\n",
       "      <td>...</td>\n",
       "      <td>...</td>\n",
       "      <td>...</td>\n",
       "      <td>...</td>\n",
       "    </tr>\n",
       "    <tr>\n",
       "      <th>2215</th>\n",
       "      <td>1</td>\n",
       "      <td>2013-05-25</td>\n",
       "      <td>40.5140</td>\n",
       "      <td>Евро</td>\n",
       "      <td>2013</td>\n",
       "      <td>5</td>\n",
       "      <td>25</td>\n",
       "    </tr>\n",
       "    <tr>\n",
       "      <th>2216</th>\n",
       "      <td>1</td>\n",
       "      <td>2013-05-24</td>\n",
       "      <td>40.4026</td>\n",
       "      <td>Евро</td>\n",
       "      <td>2013</td>\n",
       "      <td>5</td>\n",
       "      <td>24</td>\n",
       "    </tr>\n",
       "    <tr>\n",
       "      <th>2217</th>\n",
       "      <td>1</td>\n",
       "      <td>2013-05-23</td>\n",
       "      <td>40.3372</td>\n",
       "      <td>Евро</td>\n",
       "      <td>2013</td>\n",
       "      <td>5</td>\n",
       "      <td>23</td>\n",
       "    </tr>\n",
       "    <tr>\n",
       "      <th>2218</th>\n",
       "      <td>1</td>\n",
       "      <td>2013-05-22</td>\n",
       "      <td>40.1903</td>\n",
       "      <td>Евро</td>\n",
       "      <td>2013</td>\n",
       "      <td>5</td>\n",
       "      <td>22</td>\n",
       "    </tr>\n",
       "    <tr>\n",
       "      <th>2219</th>\n",
       "      <td>1</td>\n",
       "      <td>2013-05-21</td>\n",
       "      <td>40.2633</td>\n",
       "      <td>Евро</td>\n",
       "      <td>2013</td>\n",
       "      <td>5</td>\n",
       "      <td>21</td>\n",
       "    </tr>\n",
       "  </tbody>\n",
       "</table>\n",
       "<p>2220 rows × 7 columns</p>\n",
       "</div>"
      ],
      "text/plain": [
       "      nominal       data     curs   cdx  year  month  day\n",
       "0           1 2022-05-20  64.9358  Евро  2022      5   20\n",
       "1           1 2022-05-19  66.6135  Евро  2022      5   19\n",
       "2           1 2022-05-18  66.3644  Евро  2022      5   18\n",
       "3           1 2022-05-17  65.8166  Евро  2022      5   17\n",
       "4           1 2022-05-14  65.7939  Евро  2022      5   14\n",
       "...       ...        ...      ...   ...   ...    ...  ...\n",
       "2215        1 2013-05-25  40.5140  Евро  2013      5   25\n",
       "2216        1 2013-05-24  40.4026  Евро  2013      5   24\n",
       "2217        1 2013-05-23  40.3372  Евро  2013      5   23\n",
       "2218        1 2013-05-22  40.1903  Евро  2013      5   22\n",
       "2219        1 2013-05-21  40.2633  Евро  2013      5   21\n",
       "\n",
       "[2220 rows x 7 columns]"
      ]
     },
     "execution_count": 23,
     "metadata": {},
     "output_type": "execute_result"
    }
   ],
   "source": [
    "data"
   ]
  },
  {
   "cell_type": "markdown",
   "id": "bcbfeea9",
   "metadata": {},
   "source": [
    "### Аналитика"
   ]
  },
  {
   "cell_type": "code",
   "execution_count": 29,
   "id": "aad9bbf5",
   "metadata": {},
   "outputs": [
    {
     "data": {
      "image/png": "[encoded data removed]",
      "text/plain": [
       "<Figure size 432x288 with 1 Axes>"
      ]
     },
     "metadata": {
      "needs_background": "light"
     },
     "output_type": "display_data"
    }
   ],
   "source": [
    "plt.scatter(data.month, data.curs , color ='wheat')\n",
    "plt.xlabel(\"month\")\n",
    "plt.ylabel(\"curs\")\n",
    "plt.grid()\n",
    "plt.show()"
   ]
  },
  {
   "cell_type": "code",
   "execution_count": 31,
   "id": "c3211285",
   "metadata": {},
   "outputs": [
    {
     "data": {
      "image/png": "[encoded data removed]",
      "text/plain": [
       "<Figure size 432x288 with 1 Axes>"
      ]
     },
     "metadata": {
      "needs_background": "light"
     },
     "output_type": "display_data"
    }
   ],
   "source": [
    "plt.scatter(data.year, data.curs , color ='wheat')\n",
    "plt.xlabel(\"year\")\n",
    "plt.ylabel(\"curs\")\n",
    "plt.grid()\n",
    "plt.show()"
   ]
  },
  {
   "cell_type": "code",
   "execution_count": 33,
   "id": "5b3ead44",
   "metadata": {},
   "outputs": [
    {
     "data": {
      "image/png": "[encoded data removed]",
      "text/plain": [
       "<Figure size 432x288 with 1 Axes>"
      ]
     },
     "metadata": {
      "needs_background": "light"
     },
     "output_type": "display_data"
    }
   ],
   "source": [
    "plt.scatter(data.day, data.curs , color ='wheat')\n",
    "plt.xlabel(\"day\")\n",
    "plt.ylabel(\"curs\")\n",
    "plt.grid()\n",
    "plt.show()"
   ]
  },
  {
   "cell_type": "markdown",
   "id": "ff0b6483",
   "metadata": {},
   "source": [
    "### Линейная регрессия"
   ]
  },
  {
   "cell_type": "markdown",
   "id": "9af02243",
   "metadata": {},
   "source": [
    "*Регрессионный анализ:*"
   ]
  },
  {
   "cell_type": "code",
   "execution_count": 35,
   "id": "9a9776b9",
   "metadata": {},
   "outputs": [],
   "source": [
    "lbl=LabelEncoder()\n",
    "nomeric=data.select_dtypes(exclude=[np.number])\n",
    "cols=nomeric.columns.values\n",
    "for col in cols:\n",
    "    data[col]=lbl.fit_transform(data[col].astype(str))"
   ]
  },
  {
   "cell_type": "code",
   "execution_count": 36,
   "id": "6cf4b634",
   "metadata": {},
   "outputs": [
    {
     "data": {
      "text/html": [
       "<div>\n",
       "<style scoped>\n",
       "    .dataframe tbody tr th:only-of-type {\n",
       "        vertical-align: middle;\n",
       "    }\n",
       "\n",
       "    .dataframe tbody tr th {\n",
       "        vertical-align: top;\n",
       "    }\n",
       "\n",
       "    .dataframe thead th {\n",
       "        text-align: right;\n",
       "    }\n",
       "</style>\n",
       "<table border=\"1\" class=\"dataframe\">\n",
       "  <thead>\n",
       "    <tr style=\"text-align: right;\">\n",
       "      <th></th>\n",
       "      <th>nominal</th>\n",
       "      <th>data</th>\n",
       "      <th>cdx</th>\n",
       "      <th>year</th>\n",
       "      <th>month</th>\n",
       "      <th>day</th>\n",
       "    </tr>\n",
       "  </thead>\n",
       "  <tbody>\n",
       "    <tr>\n",
       "      <th>0</th>\n",
       "      <td>0.0</td>\n",
       "      <td>1.731271</td>\n",
       "      <td>0.0</td>\n",
       "      <td>1.769756</td>\n",
       "      <td>-0.500752</td>\n",
       "      <td>0.432895</td>\n",
       "    </tr>\n",
       "    <tr>\n",
       "      <th>1</th>\n",
       "      <td>0.0</td>\n",
       "      <td>1.729710</td>\n",
       "      <td>0.0</td>\n",
       "      <td>1.769756</td>\n",
       "      <td>-0.500752</td>\n",
       "      <td>0.318255</td>\n",
       "    </tr>\n",
       "    <tr>\n",
       "      <th>2</th>\n",
       "      <td>0.0</td>\n",
       "      <td>1.728150</td>\n",
       "      <td>0.0</td>\n",
       "      <td>1.769756</td>\n",
       "      <td>-0.500752</td>\n",
       "      <td>0.203615</td>\n",
       "    </tr>\n",
       "    <tr>\n",
       "      <th>3</th>\n",
       "      <td>0.0</td>\n",
       "      <td>1.726590</td>\n",
       "      <td>0.0</td>\n",
       "      <td>1.769756</td>\n",
       "      <td>-0.500752</td>\n",
       "      <td>0.088975</td>\n",
       "    </tr>\n",
       "    <tr>\n",
       "      <th>4</th>\n",
       "      <td>0.0</td>\n",
       "      <td>1.725029</td>\n",
       "      <td>0.0</td>\n",
       "      <td>1.769756</td>\n",
       "      <td>-0.500752</td>\n",
       "      <td>-0.254945</td>\n",
       "    </tr>\n",
       "    <tr>\n",
       "      <th>...</th>\n",
       "      <td>...</td>\n",
       "      <td>...</td>\n",
       "      <td>...</td>\n",
       "      <td>...</td>\n",
       "      <td>...</td>\n",
       "      <td>...</td>\n",
       "    </tr>\n",
       "    <tr>\n",
       "      <th>2215</th>\n",
       "      <td>0.0</td>\n",
       "      <td>-1.725029</td>\n",
       "      <td>0.0</td>\n",
       "      <td>-1.656906</td>\n",
       "      <td>-0.500752</td>\n",
       "      <td>1.006095</td>\n",
       "    </tr>\n",
       "    <tr>\n",
       "      <th>2216</th>\n",
       "      <td>0.0</td>\n",
       "      <td>-1.726590</td>\n",
       "      <td>0.0</td>\n",
       "      <td>-1.656906</td>\n",
       "      <td>-0.500752</td>\n",
       "      <td>0.891455</td>\n",
       "    </tr>\n",
       "    <tr>\n",
       "      <th>2217</th>\n",
       "      <td>0.0</td>\n",
       "      <td>-1.728150</td>\n",
       "      <td>0.0</td>\n",
       "      <td>-1.656906</td>\n",
       "      <td>-0.500752</td>\n",
       "      <td>0.776815</td>\n",
       "    </tr>\n",
       "    <tr>\n",
       "      <th>2218</th>\n",
       "      <td>0.0</td>\n",
       "      <td>-1.729710</td>\n",
       "      <td>0.0</td>\n",
       "      <td>-1.656906</td>\n",
       "      <td>-0.500752</td>\n",
       "      <td>0.662175</td>\n",
       "    </tr>\n",
       "    <tr>\n",
       "      <th>2219</th>\n",
       "      <td>0.0</td>\n",
       "      <td>-1.731271</td>\n",
       "      <td>0.0</td>\n",
       "      <td>-1.656906</td>\n",
       "      <td>-0.500752</td>\n",
       "      <td>0.547535</td>\n",
       "    </tr>\n",
       "  </tbody>\n",
       "</table>\n",
       "<p>2220 rows × 6 columns</p>\n",
       "</div>"
      ],
      "text/plain": [
       "      nominal      data  cdx      year     month       day\n",
       "0         0.0  1.731271  0.0  1.769756 -0.500752  0.432895\n",
       "1         0.0  1.729710  0.0  1.769756 -0.500752  0.318255\n",
       "2         0.0  1.728150  0.0  1.769756 -0.500752  0.203615\n",
       "3         0.0  1.726590  0.0  1.769756 -0.500752  0.088975\n",
       "4         0.0  1.725029  0.0  1.769756 -0.500752 -0.254945\n",
       "...       ...       ...  ...       ...       ...       ...\n",
       "2215      0.0 -1.725029  0.0 -1.656906 -0.500752  1.006095\n",
       "2216      0.0 -1.726590  0.0 -1.656906 -0.500752  0.891455\n",
       "2217      0.0 -1.728150  0.0 -1.656906 -0.500752  0.776815\n",
       "2218      0.0 -1.729710  0.0 -1.656906 -0.500752  0.662175\n",
       "2219      0.0 -1.731271  0.0 -1.656906 -0.500752  0.547535\n",
       "\n",
       "[2220 rows x 6 columns]"
      ]
     },
     "execution_count": 36,
     "metadata": {},
     "output_type": "execute_result"
    }
   ],
   "source": [
    "scal=StandardScaler()\n",
    "df_scaler=scal.fit_transform(data.drop(\"curs\",axis=1))\n",
    "pd.DataFrame(df_scaler, columns=data.drop(\"curs\",axis=1).columns)"
   ]
  },
  {
   "cell_type": "code",
   "execution_count": 37,
   "id": "d96a784f",
   "metadata": {},
   "outputs": [],
   "source": [
    "msk=np.random.rand(len(data)) <0.8\n",
    "train=data[msk]\n",
    "test=data[~msk]"
   ]
  },
  {
   "cell_type": "code",
   "execution_count": 39,
   "id": "154fbd58",
   "metadata": {},
   "outputs": [
    {
     "name": "stdout",
     "output_type": "stream",
     "text": [
      "Coefficients: [[-0.34518178]]\n",
      "Intercept: [72.74869083]\n"
     ]
    }
   ],
   "source": [
    "from sklearn import linear_model\n",
    "regr = linear_model.LinearRegression()\n",
    "train_x=np.asanyarray(train[['month']])\n",
    "train_y=np.asanyarray(train[['curs']])\n",
    "regr.fit(train_x, train_y)\n",
    "print('Coefficients:',regr.coef_)\n",
    "print('Intercept:',regr.intercept_)"
   ]
  },
  {
   "cell_type": "code",
   "execution_count": 40,
   "id": "5a8d596e",
   "metadata": {},
   "outputs": [
    {
     "data": {
      "image/png": "[encoded data removed]",
      "text/plain": [
       "<Figure size 432x288 with 1 Axes>"
      ]
     },
     "metadata": {
      "needs_background": "light"
     },
     "output_type": "display_data"
    }
   ],
   "source": [
    "plt.scatter(train.month, train.curs , color = 'blue')\n",
    "plt.plot(train_x, regr.coef_[0][0]*train_x + regr.intercept_[0], '-r')\n",
    "plt.xlabel(\"month\")\n",
    "plt.ylabel(\"curs\")\n",
    "plt.grid()"
   ]
  },
  {
   "cell_type": "markdown",
   "id": "6f557da2",
   "metadata": {},
   "source": [
    "*Зависимость курса от года*"
   ]
  },
  {
   "cell_type": "code",
   "execution_count": 41,
   "id": "08e6db39",
   "metadata": {},
   "outputs": [
    {
     "name": "stdout",
     "output_type": "stream",
     "text": [
      "Coefficients: [[4.42910232]]\n",
      "Intercept: [-8864.49500707]\n"
     ]
    }
   ],
   "source": [
    "from sklearn import linear_model\n",
    "regr = linear_model.LinearRegression()\n",
    "train_x=np.asanyarray(train[['year']])\n",
    "train_y=np.asanyarray(train[['curs']])\n",
    "regr.fit(train_x, train_y)\n",
    "print('Coefficients:',regr.coef_)\n",
    "print('Intercept:',regr.intercept_)"
   ]
  },
  {
   "cell_type": "code",
   "execution_count": 43,
   "id": "9e774a5d",
   "metadata": {},
   "outputs": [
    {
     "data": {
      "image/png": "[encoded data removed]",
      "text/plain": [
       "<Figure size 432x288 with 1 Axes>"
      ]
     },
     "metadata": {
      "needs_background": "light"
     },
     "output_type": "display_data"
    }
   ],
   "source": [
    "plt.scatter(train.year, train.curs , color = 'blue')\n",
    "plt.plot(train_x, regr.coef_[0][0]*train_x + regr.intercept_[0], '-r')\n",
    "plt.xlabel(\"year\")\n",
    "plt.ylabel(\"curs\")\n",
    "plt.grid()"
   ]
  },
  {
   "cell_type": "markdown",
   "id": "e8bb5ce7",
   "metadata": {},
   "source": [
    "*Зависимость курса валют от дня*"
   ]
  },
  {
   "cell_type": "code",
   "execution_count": 44,
   "id": "e465051d",
   "metadata": {},
   "outputs": [
    {
     "name": "stdout",
     "output_type": "stream",
     "text": [
      "Coefficients: [[-0.02197354]]\n",
      "Intercept: [70.81435001]\n"
     ]
    }
   ],
   "source": [
    "from sklearn import linear_model\n",
    "regr = linear_model.LinearRegression()\n",
    "train_x=np.asanyarray(train[['day']])\n",
    "train_y=np.asanyarray(train[['curs']])\n",
    "regr.fit(train_x, train_y)\n",
    "print('Coefficients:',regr.coef_)\n",
    "print('Intercept:',regr.intercept_)"
   ]
  },
  {
   "cell_type": "code",
   "execution_count": 45,
   "id": "8216dc7c",
   "metadata": {},
   "outputs": [
    {
     "data": {
      "image/png": "[encoded data removed]",
      "text/plain": [
       "<Figure size 432x288 with 1 Axes>"
      ]
     },
     "metadata": {
      "needs_background": "light"
     },
     "output_type": "display_data"
    }
   ],
   "source": [
    "plt.scatter(train.day, train.curs , color = 'blue')\n",
    "plt.plot(train_x, regr.coef_[0][0]*train_x + regr.intercept_[0], '-r')\n",
    "plt.xlabel(\"day\")\n",
    "plt.ylabel(\"curs\")\n",
    "plt.grid()"
   ]
  },
  {
   "cell_type": "markdown",
   "id": "50bfaea4",
   "metadata": {},
   "source": [
    "*Зависимость курса валют от общей даты*"
   ]
  },
  {
   "cell_type": "code",
   "execution_count": 46,
   "id": "f2b4e5b2",
   "metadata": {},
   "outputs": [
    {
     "name": "stdout",
     "output_type": "stream",
     "text": [
      "Coefficients: [[0.01814034]]\n",
      "Intercept: [50.4584278]\n"
     ]
    }
   ],
   "source": [
    "from sklearn import linear_model\n",
    "regr = linear_model.LinearRegression()\n",
    "train_x=np.asanyarray(train[['data']])\n",
    "train_y=np.asanyarray(train[['curs']])\n",
    "regr.fit(train_x, train_y)\n",
    "print('Coefficients:',regr.coef_)\n",
    "print('Intercept:',regr.intercept_)"
   ]
  },
  {
   "cell_type": "code",
   "execution_count": 47,
   "id": "d85a698c",
   "metadata": {},
   "outputs": [
    {
     "data": {
      "image/png": "[encoded data removed]",
      "text/plain": [
       "<Figure size 432x288 with 1 Axes>"
      ]
     },
     "metadata": {
      "needs_background": "light"
     },
     "output_type": "display_data"
    }
   ],
   "source": [
    "plt.scatter(train.data, train.curs , color = 'blue')\n",
    "plt.plot(train_x, regr.coef_[0][0]*train_x + regr.intercept_[0], '-r')\n",
    "plt.xlabel(\"data\")\n",
    "plt.ylabel(\"curs\")\n",
    "plt.grid()"
   ]
  },
  {
   "cell_type": "markdown",
   "id": "8c8680d0",
   "metadata": {},
   "source": [
    "*Лучше всего от курса валют зависит день, так как там больше всего точек пересеклись с линейной регрессией.*"
   ]
  },
  {
   "cell_type": "markdown",
   "id": "b2aaebe7",
   "metadata": {},
   "source": [
    "### Статистика курса валют"
   ]
  },
  {
   "cell_type": "code",
   "execution_count": 50,
   "id": "430d014b",
   "metadata": {},
   "outputs": [
    {
     "data": {
      "text/html": [
       "<div>\n",
       "<style scoped>\n",
       "    .dataframe tbody tr th:only-of-type {\n",
       "        vertical-align: middle;\n",
       "    }\n",
       "\n",
       "    .dataframe tbody tr th {\n",
       "        vertical-align: top;\n",
       "    }\n",
       "\n",
       "    .dataframe thead th {\n",
       "        text-align: right;\n",
       "    }\n",
       "</style>\n",
       "<table border=\"1\" class=\"dataframe\">\n",
       "  <thead>\n",
       "    <tr style=\"text-align: right;\">\n",
       "      <th></th>\n",
       "      <th>nominal</th>\n",
       "      <th>data</th>\n",
       "      <th>curs</th>\n",
       "      <th>cdx</th>\n",
       "      <th>year</th>\n",
       "      <th>month</th>\n",
       "      <th>day</th>\n",
       "    </tr>\n",
       "  </thead>\n",
       "  <tbody>\n",
       "    <tr>\n",
       "      <th>count</th>\n",
       "      <td>2220.0</td>\n",
       "      <td>2220.00000</td>\n",
       "      <td>2220.000000</td>\n",
       "      <td>2220.0</td>\n",
       "      <td>2220.000000</td>\n",
       "      <td>2220.00000</td>\n",
       "      <td>2220.000000</td>\n",
       "    </tr>\n",
       "    <tr>\n",
       "      <th>mean</th>\n",
       "      <td>1.0</td>\n",
       "      <td>1109.50000</td>\n",
       "      <td>70.635914</td>\n",
       "      <td>0.0</td>\n",
       "      <td>2017.351802</td>\n",
       "      <td>6.70000</td>\n",
       "      <td>16.223874</td>\n",
       "    </tr>\n",
       "    <tr>\n",
       "      <th>std</th>\n",
       "      <td>0.0</td>\n",
       "      <td>641.00312</td>\n",
       "      <td>14.101092</td>\n",
       "      <td>0.0</td>\n",
       "      <td>2.627055</td>\n",
       "      <td>3.39566</td>\n",
       "      <td>8.724922</td>\n",
       "    </tr>\n",
       "    <tr>\n",
       "      <th>min</th>\n",
       "      <td>1.0</td>\n",
       "      <td>0.00000</td>\n",
       "      <td>40.190300</td>\n",
       "      <td>0.0</td>\n",
       "      <td>2013.000000</td>\n",
       "      <td>1.00000</td>\n",
       "      <td>1.000000</td>\n",
       "    </tr>\n",
       "    <tr>\n",
       "      <th>25%</th>\n",
       "      <td>1.0</td>\n",
       "      <td>554.75000</td>\n",
       "      <td>63.556425</td>\n",
       "      <td>0.0</td>\n",
       "      <td>2015.000000</td>\n",
       "      <td>4.00000</td>\n",
       "      <td>9.000000</td>\n",
       "    </tr>\n",
       "    <tr>\n",
       "      <th>50%</th>\n",
       "      <td>1.0</td>\n",
       "      <td>1109.50000</td>\n",
       "      <td>71.715400</td>\n",
       "      <td>0.0</td>\n",
       "      <td>2017.000000</td>\n",
       "      <td>7.00000</td>\n",
       "      <td>16.500000</td>\n",
       "    </tr>\n",
       "    <tr>\n",
       "      <th>75%</th>\n",
       "      <td>1.0</td>\n",
       "      <td>1664.25000</td>\n",
       "      <td>79.138425</td>\n",
       "      <td>0.0</td>\n",
       "      <td>2020.000000</td>\n",
       "      <td>10.00000</td>\n",
       "      <td>24.000000</td>\n",
       "    </tr>\n",
       "    <tr>\n",
       "      <th>max</th>\n",
       "      <td>1.0</td>\n",
       "      <td>2219.00000</td>\n",
       "      <td>132.958100</td>\n",
       "      <td>0.0</td>\n",
       "      <td>2022.000000</td>\n",
       "      <td>12.00000</td>\n",
       "      <td>31.000000</td>\n",
       "    </tr>\n",
       "  </tbody>\n",
       "</table>\n",
       "</div>"
      ],
      "text/plain": [
       "       nominal        data         curs     cdx         year       month  \\\n",
       "count   2220.0  2220.00000  2220.000000  2220.0  2220.000000  2220.00000   \n",
       "mean       1.0  1109.50000    70.635914     0.0  2017.351802     6.70000   \n",
       "std        0.0   641.00312    14.101092     0.0     2.627055     3.39566   \n",
       "min        1.0     0.00000    40.190300     0.0  2013.000000     1.00000   \n",
       "25%        1.0   554.75000    63.556425     0.0  2015.000000     4.00000   \n",
       "50%        1.0  1109.50000    71.715400     0.0  2017.000000     7.00000   \n",
       "75%        1.0  1664.25000    79.138425     0.0  2020.000000    10.00000   \n",
       "max        1.0  2219.00000   132.958100     0.0  2022.000000    12.00000   \n",
       "\n",
       "               day  \n",
       "count  2220.000000  \n",
       "mean     16.223874  \n",
       "std       8.724922  \n",
       "min       1.000000  \n",
       "25%       9.000000  \n",
       "50%      16.500000  \n",
       "75%      24.000000  \n",
       "max      31.000000  "
      ]
     },
     "execution_count": 50,
     "metadata": {},
     "output_type": "execute_result"
    }
   ],
   "source": [
    "data.describe()"
   ]
  },
  {
   "cell_type": "markdown",
   "id": "eff72d79",
   "metadata": {},
   "source": [
    "*По статистике можно сказать, что выбросов в данных нету, так как медианное и среднее значение значительно не отличаются, дисперсия в данных плохая только в признаке data, но это нормально, так как остальные атрибуты имеют хорошее стандартное отклонение.*"
   ]
  }
 ],
 "metadata": {
  "kernelspec": {
   "display_name": "Python 3 (ipykernel)",
   "language": "python",
   "name": "python3"
  },
  "language_info": {
   "codemirror_mode": {
    "name": "ipython",
    "version": 3
   },
   "file_extension": ".py",
   "mimetype": "text/x-python",
   "name": "python",
   "nbconvert_exporter": "python",
   "pygments_lexer": "ipython3",
   "version": "3.8.0"
  }
 },
 "nbformat": 4,
 "nbformat_minor": 5
}
